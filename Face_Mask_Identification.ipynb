{
  "cells": [
    {
      "cell_type": "code",
      "execution_count": null,
      "metadata": {
        "colab": {
          "base_uri": "https://localhost:8080/"
        },
        "id": "7zWT_1kOQjfx",
        "outputId": "84206357-f4e9-4bd4-c9d0-9d8f37cff21e"
      },
      "outputs": [
        {
          "name": "stdout",
          "output_type": "stream",
          "text": [
            "Drive already mounted at /content/drive; to attempt to forcibly remount, call drive.mount(\"/content/drive\", force_remount=True).\n"
          ]
        }
      ],
      "source": [
        "# Mount drive\n",
        "\n",
        "from google.colab import drive\n",
        "\n",
        "drive.mount('/content/drive')"
      ]
    },
    {
      "cell_type": "code",
      "execution_count": null,
      "metadata": {
        "id": "0gxX9Lx8SxGQ"
      },
      "outputs": [],
      "source": [
        "from keras.applications import ResNet50\n",
        "from keras.applications.resnet import preprocess_input\n",
        "from keras.preprocessing import image\n",
        "from keras.optimizers import Adam\n",
        "from keras.preprocessing.image import ImageDataGenerator\n",
        "from keras.models import Sequential\n",
        "from keras.layers import Dense, GlobalAveragePooling2D, Dropout\n",
        "from keras.preprocessing import image\n",
        "import os\n",
        "from sklearn.model_selection import train_test_split\n",
        "import numpy as np\n",
        "import matplotlib.pyplot as plt\n",
        "from sklearn.model_selection import StratifiedShuffleSplit\n"
      ]
    },
    {
      "cell_type": "code",
      "execution_count": null,
      "metadata": {
        "id": "gzvfkSRayy8H"
      },
      "outputs": [],
      "source": [
        "# Function to load and preprocess images\n",
        "def load_and_preprocess_image(img_path, label):\n",
        "    img = image.load_img(img_path, target_size=(img_width, img_height))\n",
        "    img_array = image.img_to_array(img)\n",
        "    img_array = np.expand_dims(img_array, axis=0)\n",
        "    img_array = preprocess_input(img_array)\n",
        "    return img_array, label"
      ]
    },
    {
      "cell_type": "code",
      "execution_count": null,
      "metadata": {
        "id": "AlpcO764W6sW"
      },
      "outputs": [],
      "source": [
        "# Function to extract features from an image\n",
        "def extract_features(img_path, label):\n",
        "    img = image.load_img(img_path, target_size=(img_width, img_height))\n",
        "    img_array = image.img_to_array(img)\n",
        "    img_array = preprocess_input(img_array)\n",
        "    return img_array, label"
      ]
    },
    {
      "cell_type": "code",
      "execution_count": null,
      "metadata": {
        "id": "fSEon6H5VvzE"
      },
      "outputs": [],
      "source": [
        "# Set the image size according to the ResNet-101V2 input shape\n",
        "img_width, img_height = 256, 256"
      ]
    },
    {
      "cell_type": "code",
      "execution_count": null,
      "metadata": {
        "id": "fR2UJ4i3TdO5"
      },
      "outputs": [],
      "source": [
        "# Set the path to the Google Drive dataset\n",
        "base_dataset_path = '/content/drive/MyDrive/dataset/dataset'"
      ]
    },
    {
      "cell_type": "code",
      "execution_count": null,
      "metadata": {
        "id": "NaIbJZkkpuqJ"
      },
      "outputs": [],
      "source": [
        "batch_size = 15"
      ]
    },
    {
      "cell_type": "code",
      "execution_count": null,
      "metadata": {
        "id": "fsr0HXF0qg3F"
      },
      "outputs": [],
      "source": [
        "# Create a ResNet-50 model with pre-trained weights from ImageNet\n",
        "base_model = ResNet50(weights='imagenet', include_top=False, input_shape=(img_width, img_height, 3))"
      ]
    },
    {
      "cell_type": "code",
      "execution_count": null,
      "metadata": {
        "id": "vml18K9RWAig"
      },
      "outputs": [],
      "source": [
        "# Create lists to store image data and labels\n",
        "image_data = []\n",
        "image_labels = []"
      ]
    },
    {
      "cell_type": "code",
      "execution_count": null,
      "metadata": {
        "id": "mc9MLhdAWU28"
      },
      "outputs": [],
      "source": [
        "# Iterate through each mask type\n",
        "mask_types = ['FFP2 mask', 'cotton mask', 'n95 mask dataset', 'surgical mask dataset']\n",
        "for label, mask_type in enumerate(mask_types):\n",
        "    mask_folder = os.path.join(base_dataset_path, mask_type)\n",
        "\n",
        "    # Load images and extract features\n",
        "    for filename in os.listdir(mask_folder):\n",
        "        if filename.endswith(\".jpg\"):\n",
        "            img_path = os.path.join(mask_folder, filename)\n",
        "            img_data, img_label = extract_features(img_path, label)\n",
        "            image_data.append(img_data)\n",
        "            image_labels.append(img_label)\n",
        "\n",
        "# Convert the lists to numpy arrays\n",
        "image_data = np.array(image_data)\n",
        "image_labels = np.array(image_labels)\n"
      ]
    },
    {
      "cell_type": "code",
      "execution_count": null,
      "metadata": {
        "id": "McBQmrcQWCk8"
      },
      "outputs": [],
      "source": [
        "# Use StratifiedShuffleSplit to split the data\n",
        "sss = StratifiedShuffleSplit(n_splits=1, test_size=0.3, random_state=42)\n",
        "for train_index, test_val_index in sss.split(image_data, image_labels):\n",
        "    train_data, test_val_data = image_data[train_index], image_data[test_val_index]\n",
        "    train_labels, test_val_labels = image_labels[train_index], image_labels[test_val_index]\n"
      ]
    },
    {
      "cell_type": "code",
      "execution_count": null,
      "metadata": {
        "id": "qYNQMTFEpZcu"
      },
      "outputs": [],
      "source": [
        "# Further split the test_val set into test and validation sets\n",
        "sss = StratifiedShuffleSplit(n_splits=1, test_size=0.5, random_state=42)\n",
        "for test_index, val_index in sss.split(test_val_data, test_val_labels):\n",
        "    test_data, val_data = test_val_data[test_index], test_val_data[val_index]\n",
        "    test_labels, val_labels = test_val_labels[test_index], test_val_labels[val_index]\n"
      ]
    },
    {
      "cell_type": "code",
      "execution_count": null,
      "metadata": {
        "colab": {
          "base_uri": "https://localhost:8080/"
        },
        "id": "m2RQHE4NWNhL",
        "outputId": "d3766b40-9bb7-4ac8-ff84-83d0941d5650"
      },
      "outputs": [
        {
          "name": "stderr",
          "output_type": "stream",
          "text": [
            "WARNING:absl:`lr` is deprecated in Keras optimizer, please use `learning_rate` or use the legacy optimizer, e.g.,tf.keras.optimizers.legacy.Adam.\n"
          ]
        },
        {
          "name": "stdout",
          "output_type": "stream",
          "text": [
            "Model: \"sequential\"\n",
            "_________________________________________________________________\n",
            " Layer (type)                Output Shape              Param #   \n",
            "=================================================================\n",
            " resnet50 (Functional)       (None, 8, 8, 2048)        23587712  \n",
            "                                                                 \n",
            " global_average_pooling2d (  (None, 2048)              0         \n",
            " GlobalAveragePooling2D)                                         \n",
            "                                                                 \n",
            " dense (Dense)               (None, 256)               524544    \n",
            "                                                                 \n",
            " dropout (Dropout)           (None, 256)               0         \n",
            "                                                                 \n",
            " dense_1 (Dense)             (None, 128)               32896     \n",
            "                                                                 \n",
            " dropout_1 (Dropout)         (None, 128)               0         \n",
            "                                                                 \n",
            " dense_2 (Dense)             (None, 64)                8256      \n",
            "                                                                 \n",
            " dense_3 (Dense)             (None, 4)                 260       \n",
            "                                                                 \n",
            "=================================================================\n",
            "Total params: 24153668 (92.14 MB)\n",
            "Trainable params: 565956 (2.16 MB)\n",
            "Non-trainable params: 23587712 (89.98 MB)\n",
            "_________________________________________________________________\n"
          ]
        }
      ],
      "source": [
        "# Create a ResNet-50 model with pre-trained weights from ImageNet\n",
        "base_model = ResNet50(weights='imagenet', include_top=False, input_shape=(img_width, img_height, 3))\n",
        "\n",
        "# Add custom layers for your specific classification task\n",
        "model = Sequential()\n",
        "model.add(base_model)\n",
        "model.add(GlobalAveragePooling2D())\n",
        "model.add(Dense(256, activation='relu'))\n",
        "model.add(Dropout(0.5))  # Add dropout after the first dense layer\n",
        "model.add(Dense(128, activation='relu'))\n",
        "model.add(Dropout(0.5))  # Add dropout after the second dense layer\n",
        "model.add(Dense(64, activation='relu'))\n",
        "model.add(Dense(4, activation='softmax'))\n",
        "\n",
        "# Freeze the weights of the pre-trained layers\n",
        "for layer in base_model.layers:\n",
        "    layer.trainable = False\n",
        "\n",
        "# Compile the model\n",
        "model.compile(optimizer=Adam(lr=1e-5), loss='sparse_categorical_crossentropy', metrics=['accuracy'])\n",
        "\n",
        "model.summary()"
      ]
    },
    {
      "cell_type": "code",
      "execution_count": null,
      "metadata": {
        "id": "l600eD8SXSJP"
      },
      "outputs": [],
      "source": [
        "# Data augmentation for training images\n",
        "train_datagen = ImageDataGenerator(\n",
        "    rescale=1./255,\n",
        "    shear_range=0.2,\n",
        "    zoom_range=0.2,\n",
        "    horizontal_flip=True,\n",
        "    rotation_range=20,\n",
        "    width_shift_range=0.2,\n",
        "    height_shift_range=0.2\n",
        ")\n",
        "\n",
        "# Rescaling for validation and test images\n",
        "val_test_datagen = ImageDataGenerator(rescale=1./255)\n",
        "\n",
        "# Generate the training, validation, and test data using flow_from_directory\n",
        "train_generator = train_datagen.flow(train_data, train_labels, batch_size=batch_size)\n",
        "validation_generator = val_test_datagen.flow(val_data, val_labels, batch_size=batch_size, shuffle=False)\n",
        "test_generator = val_test_datagen.flow(test_data, test_labels, batch_size=batch_size, shuffle=False)\n"
      ]
    },
    {
      "cell_type": "code",
      "execution_count": null,
      "metadata": {
        "colab": {
          "background_save": true,
          "base_uri": "https://localhost:8080/"
        },
        "id": "MXiMbghHXYY7",
        "outputId": "0418501f-eeb9-4081-ffe4-269e8afc61a0"
      },
      "outputs": [
        {
          "name": "stderr",
          "output_type": "stream",
          "text": [
            "<ipython-input-15-99a12a3b4cc1>:2: UserWarning: `Model.fit_generator` is deprecated and will be removed in a future version. Please use `Model.fit`, which supports generators.\n",
            "  history = model.fit_generator(\n"
          ]
        },
        {
          "name": "stdout",
          "output_type": "stream",
          "text": [
            "Epoch 1/50\n",
            "23/23 [==============================] - 76s 3s/step - loss: 1.5576 - accuracy: 0.3314 - val_loss: 1.3582 - val_accuracy: 0.2400\n",
            "Epoch 2/50\n",
            "23/23 [==============================] - 77s 3s/step - loss: 1.4401 - accuracy: 0.3721 - val_loss: 1.3337 - val_accuracy: 0.4133\n",
            "Epoch 3/50\n",
            "23/23 [==============================] - 77s 3s/step - loss: 1.3705 - accuracy: 0.3517 - val_loss: 1.3302 - val_accuracy: 0.4133\n",
            "Epoch 4/50\n",
            "23/23 [==============================] - 76s 3s/step - loss: 1.3639 - accuracy: 0.3372 - val_loss: 1.3186 - val_accuracy: 0.4133\n",
            "Epoch 5/50\n",
            "23/23 [==============================] - 79s 3s/step - loss: 1.3431 - accuracy: 0.3634 - val_loss: 1.3032 - val_accuracy: 0.4133\n",
            "Epoch 6/50\n",
            "23/23 [==============================] - 76s 3s/step - loss: 1.3294 - accuracy: 0.4012 - val_loss: 1.3217 - val_accuracy: 0.4133\n",
            "Epoch 7/50\n",
            "23/23 [==============================] - 76s 3s/step - loss: 1.3473 - accuracy: 0.3692 - val_loss: 1.3150 - val_accuracy: 0.4133\n",
            "Epoch 8/50\n",
            "23/23 [==============================] - 77s 3s/step - loss: 1.3441 - accuracy: 0.3953 - val_loss: 1.3163 - val_accuracy: 0.4133\n",
            "Epoch 9/50\n",
            "23/23 [==============================] - 81s 3s/step - loss: 1.3324 - accuracy: 0.3808 - val_loss: 1.3122 - val_accuracy: 0.4133\n",
            "Epoch 10/50\n",
            "23/23 [==============================] - 81s 4s/step - loss: 1.3432 - accuracy: 0.3779 - val_loss: 1.3512 - val_accuracy: 0.4133\n",
            "Epoch 11/50\n",
            "23/23 [==============================] - 81s 4s/step - loss: 1.3267 - accuracy: 0.3808 - val_loss: 1.3147 - val_accuracy: 0.4133\n",
            "Epoch 12/50\n",
            "23/23 [==============================] - 80s 4s/step - loss: 1.3395 - accuracy: 0.3895 - val_loss: 1.3138 - val_accuracy: 0.4133\n",
            "Epoch 13/50\n",
            "23/23 [==============================] - 80s 3s/step - loss: 1.3175 - accuracy: 0.3750 - val_loss: 1.3029 - val_accuracy: 0.4133\n",
            "Epoch 14/50\n",
            "23/23 [==============================] - 69s 3s/step - loss: 1.3110 - accuracy: 0.4099 - val_loss: 1.3005 - val_accuracy: 0.4133\n",
            "Epoch 15/50\n",
            "23/23 [==============================] - 68s 3s/step - loss: 1.3182 - accuracy: 0.4157 - val_loss: 1.3069 - val_accuracy: 0.4133\n",
            "Epoch 16/50\n",
            "23/23 [==============================] - 77s 3s/step - loss: 1.3157 - accuracy: 0.4157 - val_loss: 1.3094 - val_accuracy: 0.4133\n",
            "Epoch 17/50\n",
            "23/23 [==============================] - 77s 3s/step - loss: 1.3252 - accuracy: 0.4070 - val_loss: 1.3125 - val_accuracy: 0.4133\n",
            "Epoch 18/50\n",
            "23/23 [==============================] - 77s 3s/step - loss: 1.3115 - accuracy: 0.4099 - val_loss: 1.2947 - val_accuracy: 0.4133\n",
            "Epoch 19/50\n",
            "23/23 [==============================] - 77s 3s/step - loss: 1.3322 - accuracy: 0.4128 - val_loss: 1.3090 - val_accuracy: 0.4133\n",
            "Epoch 20/50\n",
            "23/23 [==============================] - 78s 3s/step - loss: 1.3122 - accuracy: 0.4099 - val_loss: 1.3099 - val_accuracy: 0.4133\n",
            "Epoch 21/50\n",
            "23/23 [==============================] - 76s 3s/step - loss: 1.3268 - accuracy: 0.4099 - val_loss: 1.3149 - val_accuracy: 0.4133\n",
            "Epoch 22/50\n",
            "23/23 [==============================] - 68s 3s/step - loss: 1.3035 - accuracy: 0.4099 - val_loss: 1.3043 - val_accuracy: 0.4133\n",
            "Epoch 23/50\n",
            "23/23 [==============================] - 68s 3s/step - loss: 1.3128 - accuracy: 0.4070 - val_loss: 1.3137 - val_accuracy: 0.4133\n",
            "Epoch 24/50\n",
            "23/23 [==============================] - 77s 3s/step - loss: 1.3179 - accuracy: 0.4070 - val_loss: 1.2956 - val_accuracy: 0.4133\n",
            "Epoch 25/50\n",
            "23/23 [==============================] - 76s 3s/step - loss: 1.2960 - accuracy: 0.4215 - val_loss: 1.2940 - val_accuracy: 0.4133\n",
            "Epoch 26/50\n",
            "23/23 [==============================] - 77s 3s/step - loss: 1.3005 - accuracy: 0.4157 - val_loss: 1.2928 - val_accuracy: 0.4133\n",
            "Epoch 27/50\n",
            "23/23 [==============================] - 67s 3s/step - loss: 1.3014 - accuracy: 0.4128 - val_loss: 1.2894 - val_accuracy: 0.4133\n",
            "Epoch 28/50\n",
            "23/23 [==============================] - 67s 3s/step - loss: 1.2943 - accuracy: 0.4099 - val_loss: 1.2927 - val_accuracy: 0.4133\n",
            "Epoch 29/50\n",
            "23/23 [==============================] - 77s 3s/step - loss: 1.2987 - accuracy: 0.4041 - val_loss: 1.2919 - val_accuracy: 0.4133\n",
            "Epoch 30/50\n",
            "23/23 [==============================] - 77s 3s/step - loss: 1.3063 - accuracy: 0.4099 - val_loss: 1.2893 - val_accuracy: 0.4133\n",
            "Epoch 31/50\n",
            "23/23 [==============================] - 69s 3s/step - loss: 1.2994 - accuracy: 0.4186 - val_loss: 1.2968 - val_accuracy: 0.4133\n",
            "Epoch 32/50\n",
            "23/23 [==============================] - 68s 3s/step - loss: 1.2911 - accuracy: 0.4128 - val_loss: 1.2849 - val_accuracy: 0.4133\n",
            "Epoch 33/50\n",
            "23/23 [==============================] - 77s 3s/step - loss: 1.3033 - accuracy: 0.4099 - val_loss: 1.2973 - val_accuracy: 0.4133\n",
            "Epoch 34/50\n",
            "23/23 [==============================] - 77s 3s/step - loss: 1.2944 - accuracy: 0.4041 - val_loss: 1.2873 - val_accuracy: 0.4133\n",
            "Epoch 35/50\n",
            "23/23 [==============================] - 68s 3s/step - loss: 1.2918 - accuracy: 0.4012 - val_loss: 1.2801 - val_accuracy: 0.4133\n",
            "Epoch 36/50\n",
            "23/23 [==============================] - 78s 3s/step - loss: 1.2940 - accuracy: 0.4186 - val_loss: 1.2790 - val_accuracy: 0.4133\n",
            "Epoch 37/50\n",
            "23/23 [==============================] - 67s 3s/step - loss: 1.2930 - accuracy: 0.4157 - val_loss: 1.2743 - val_accuracy: 0.4133\n",
            "Epoch 38/50\n",
            "23/23 [==============================] - 69s 3s/step - loss: 1.2996 - accuracy: 0.4128 - val_loss: 1.2830 - val_accuracy: 0.4133\n",
            "Epoch 39/50\n",
            "23/23 [==============================] - 77s 3s/step - loss: 1.2853 - accuracy: 0.4070 - val_loss: 1.2737 - val_accuracy: 0.4133\n",
            "Epoch 40/50\n",
            "23/23 [==============================] - 77s 3s/step - loss: 1.2868 - accuracy: 0.4157 - val_loss: 1.2731 - val_accuracy: 0.4133\n",
            "Epoch 41/50\n",
            "23/23 [==============================] - 76s 3s/step - loss: 1.2900 - accuracy: 0.4128 - val_loss: 1.2812 - val_accuracy: 0.4133\n",
            "Epoch 42/50\n",
            "23/23 [==============================] - 77s 3s/step - loss: 1.2923 - accuracy: 0.4128 - val_loss: 1.2741 - val_accuracy: 0.4133\n",
            "Epoch 43/50\n",
            "23/23 [==============================] - 77s 3s/step - loss: 1.3107 - accuracy: 0.4186 - val_loss: 1.3014 - val_accuracy: 0.4133\n",
            "Epoch 44/50\n",
            "23/23 [==============================] - 77s 3s/step - loss: 1.2913 - accuracy: 0.4244 - val_loss: 1.2793 - val_accuracy: 0.4133\n",
            "Epoch 45/50\n",
            "23/23 [==============================] - 77s 3s/step - loss: 1.2929 - accuracy: 0.4128 - val_loss: 1.2782 - val_accuracy: 0.4133\n",
            "Epoch 46/50\n",
            "23/23 [==============================] - 77s 3s/step - loss: 1.2923 - accuracy: 0.4128 - val_loss: 1.2783 - val_accuracy: 0.4133\n",
            "Epoch 47/50\n",
            "23/23 [==============================] - 77s 3s/step - loss: 1.2970 - accuracy: 0.4070 - val_loss: 1.2784 - val_accuracy: 0.4133\n",
            "Epoch 48/50\n",
            "23/23 [==============================] - 77s 3s/step - loss: 1.2974 - accuracy: 0.4186 - val_loss: 1.2934 - val_accuracy: 0.4133\n",
            "Epoch 49/50\n",
            "23/23 [==============================] - 75s 3s/step - loss: 1.3025 - accuracy: 0.4099 - val_loss: 1.2811 - val_accuracy: 0.4133\n",
            "Epoch 50/50\n",
            "23/23 [==============================] - 77s 3s/step - loss: 1.2860 - accuracy: 0.4099 - val_loss: 1.2745 - val_accuracy: 0.4133\n"
          ]
        }
      ],
      "source": [
        "# Fine-tune the model\n",
        "history = model.fit_generator(\n",
        "    train_generator,\n",
        "    steps_per_epoch=train_generator.n // batch_size,\n",
        "    epochs=50,\n",
        "    validation_data=validation_generator,\n",
        "    validation_steps=validation_generator.n // batch_size\n",
        ")"
      ]
    },
    {
      "cell_type": "code",
      "execution_count": null,
      "metadata": {
        "colab": {
          "background_save": true
        },
        "id": "TTkLFGsXXhwn",
        "outputId": "5243ecd0-8c15-46cd-805c-3d4a4c1bbd5b"
      },
      "outputs": [
        {
          "ename": "FileNotFoundError",
          "evalue": "ignored",
          "output_type": "error",
          "traceback": [
            "\u001b[0;31m---------------------------------------------------------------------------\u001b[0m",
            "\u001b[0;31mFileNotFoundError\u001b[0m                         Traceback (most recent call last)",
            "\u001b[0;32m<ipython-input-16-a27e97de0eff>\u001b[0m in \u001b[0;36m<cell line: 2>\u001b[0;34m()\u001b[0m\n\u001b[1;32m      1\u001b[0m \u001b[0;31m# Save the model weights\u001b[0m\u001b[0;34m\u001b[0m\u001b[0;34m\u001b[0m\u001b[0m\n\u001b[0;32m----> 2\u001b[0;31m \u001b[0mmodel\u001b[0m\u001b[0;34m.\u001b[0m\u001b[0msave_weights\u001b[0m\u001b[0;34m(\u001b[0m\u001b[0;34m'/content/drive/MyDrive/Dataset/dataset/resnet50_face_mask.h5'\u001b[0m\u001b[0;34m)\u001b[0m\u001b[0;34m\u001b[0m\u001b[0;34m\u001b[0m\u001b[0m\n\u001b[0m",
            "\u001b[0;32m/usr/local/lib/python3.10/dist-packages/keras/src/utils/traceback_utils.py\u001b[0m in \u001b[0;36merror_handler\u001b[0;34m(*args, **kwargs)\u001b[0m\n\u001b[1;32m     68\u001b[0m             \u001b[0;31m# To get the full stack trace, call:\u001b[0m\u001b[0;34m\u001b[0m\u001b[0;34m\u001b[0m\u001b[0m\n\u001b[1;32m     69\u001b[0m             \u001b[0;31m# `tf.debugging.disable_traceback_filtering()`\u001b[0m\u001b[0;34m\u001b[0m\u001b[0;34m\u001b[0m\u001b[0m\n\u001b[0;32m---> 70\u001b[0;31m             \u001b[0;32mraise\u001b[0m \u001b[0me\u001b[0m\u001b[0;34m.\u001b[0m\u001b[0mwith_traceback\u001b[0m\u001b[0;34m(\u001b[0m\u001b[0mfiltered_tb\u001b[0m\u001b[0;34m)\u001b[0m \u001b[0;32mfrom\u001b[0m \u001b[0;32mNone\u001b[0m\u001b[0;34m\u001b[0m\u001b[0;34m\u001b[0m\u001b[0m\n\u001b[0m\u001b[1;32m     71\u001b[0m         \u001b[0;32mfinally\u001b[0m\u001b[0;34m:\u001b[0m\u001b[0;34m\u001b[0m\u001b[0;34m\u001b[0m\u001b[0m\n\u001b[1;32m     72\u001b[0m             \u001b[0;32mdel\u001b[0m \u001b[0mfiltered_tb\u001b[0m\u001b[0;34m\u001b[0m\u001b[0;34m\u001b[0m\u001b[0m\n",
            "\u001b[0;32m/usr/local/lib/python3.10/dist-packages/h5py/_hl/files.py\u001b[0m in \u001b[0;36m__init__\u001b[0;34m(self, name, mode, driver, libver, userblock_size, swmr, rdcc_nslots, rdcc_nbytes, rdcc_w0, track_order, fs_strategy, fs_persist, fs_threshold, fs_page_size, page_buf_size, min_meta_keep, min_raw_keep, locking, alignment_threshold, alignment_interval, meta_block_size, **kwds)\u001b[0m\n\u001b[1;32m    565\u001b[0m                                  \u001b[0mfs_persist\u001b[0m\u001b[0;34m=\u001b[0m\u001b[0mfs_persist\u001b[0m\u001b[0;34m,\u001b[0m \u001b[0mfs_threshold\u001b[0m\u001b[0;34m=\u001b[0m\u001b[0mfs_threshold\u001b[0m\u001b[0;34m,\u001b[0m\u001b[0;34m\u001b[0m\u001b[0;34m\u001b[0m\u001b[0m\n\u001b[1;32m    566\u001b[0m                                  fs_page_size=fs_page_size)\n\u001b[0;32m--> 567\u001b[0;31m                 \u001b[0mfid\u001b[0m \u001b[0;34m=\u001b[0m \u001b[0mmake_fid\u001b[0m\u001b[0;34m(\u001b[0m\u001b[0mname\u001b[0m\u001b[0;34m,\u001b[0m \u001b[0mmode\u001b[0m\u001b[0;34m,\u001b[0m \u001b[0muserblock_size\u001b[0m\u001b[0;34m,\u001b[0m \u001b[0mfapl\u001b[0m\u001b[0;34m,\u001b[0m \u001b[0mfcpl\u001b[0m\u001b[0;34m,\u001b[0m \u001b[0mswmr\u001b[0m\u001b[0;34m=\u001b[0m\u001b[0mswmr\u001b[0m\u001b[0;34m)\u001b[0m\u001b[0;34m\u001b[0m\u001b[0;34m\u001b[0m\u001b[0m\n\u001b[0m\u001b[1;32m    568\u001b[0m \u001b[0;34m\u001b[0m\u001b[0m\n\u001b[1;32m    569\u001b[0m             \u001b[0;32mif\u001b[0m \u001b[0misinstance\u001b[0m\u001b[0;34m(\u001b[0m\u001b[0mlibver\u001b[0m\u001b[0;34m,\u001b[0m \u001b[0mtuple\u001b[0m\u001b[0;34m)\u001b[0m\u001b[0;34m:\u001b[0m\u001b[0;34m\u001b[0m\u001b[0;34m\u001b[0m\u001b[0m\n",
            "\u001b[0;32m/usr/local/lib/python3.10/dist-packages/h5py/_hl/files.py\u001b[0m in \u001b[0;36mmake_fid\u001b[0;34m(name, mode, userblock_size, fapl, fcpl, swmr)\u001b[0m\n\u001b[1;32m    235\u001b[0m         \u001b[0mfid\u001b[0m \u001b[0;34m=\u001b[0m \u001b[0mh5f\u001b[0m\u001b[0;34m.\u001b[0m\u001b[0mcreate\u001b[0m\u001b[0;34m(\u001b[0m\u001b[0mname\u001b[0m\u001b[0;34m,\u001b[0m \u001b[0mh5f\u001b[0m\u001b[0;34m.\u001b[0m\u001b[0mACC_EXCL\u001b[0m\u001b[0;34m,\u001b[0m \u001b[0mfapl\u001b[0m\u001b[0;34m=\u001b[0m\u001b[0mfapl\u001b[0m\u001b[0;34m,\u001b[0m \u001b[0mfcpl\u001b[0m\u001b[0;34m=\u001b[0m\u001b[0mfcpl\u001b[0m\u001b[0;34m)\u001b[0m\u001b[0;34m\u001b[0m\u001b[0;34m\u001b[0m\u001b[0m\n\u001b[1;32m    236\u001b[0m     \u001b[0;32melif\u001b[0m \u001b[0mmode\u001b[0m \u001b[0;34m==\u001b[0m \u001b[0;34m'w'\u001b[0m\u001b[0;34m:\u001b[0m\u001b[0;34m\u001b[0m\u001b[0;34m\u001b[0m\u001b[0m\n\u001b[0;32m--> 237\u001b[0;31m         \u001b[0mfid\u001b[0m \u001b[0;34m=\u001b[0m \u001b[0mh5f\u001b[0m\u001b[0;34m.\u001b[0m\u001b[0mcreate\u001b[0m\u001b[0;34m(\u001b[0m\u001b[0mname\u001b[0m\u001b[0;34m,\u001b[0m \u001b[0mh5f\u001b[0m\u001b[0;34m.\u001b[0m\u001b[0mACC_TRUNC\u001b[0m\u001b[0;34m,\u001b[0m \u001b[0mfapl\u001b[0m\u001b[0;34m=\u001b[0m\u001b[0mfapl\u001b[0m\u001b[0;34m,\u001b[0m \u001b[0mfcpl\u001b[0m\u001b[0;34m=\u001b[0m\u001b[0mfcpl\u001b[0m\u001b[0;34m)\u001b[0m\u001b[0;34m\u001b[0m\u001b[0;34m\u001b[0m\u001b[0m\n\u001b[0m\u001b[1;32m    238\u001b[0m     \u001b[0;32melif\u001b[0m \u001b[0mmode\u001b[0m \u001b[0;34m==\u001b[0m \u001b[0;34m'a'\u001b[0m\u001b[0;34m:\u001b[0m\u001b[0;34m\u001b[0m\u001b[0;34m\u001b[0m\u001b[0m\n\u001b[1;32m    239\u001b[0m         \u001b[0;31m# Open in append mode (read/write).\u001b[0m\u001b[0;34m\u001b[0m\u001b[0;34m\u001b[0m\u001b[0m\n",
            "\u001b[0;32mh5py/_objects.pyx\u001b[0m in \u001b[0;36mh5py._objects.with_phil.wrapper\u001b[0;34m()\u001b[0m\n",
            "\u001b[0;32mh5py/_objects.pyx\u001b[0m in \u001b[0;36mh5py._objects.with_phil.wrapper\u001b[0;34m()\u001b[0m\n",
            "\u001b[0;32mh5py/h5f.pyx\u001b[0m in \u001b[0;36mh5py.h5f.create\u001b[0;34m()\u001b[0m\n",
            "\u001b[0;31mFileNotFoundError\u001b[0m: [Errno 2] Unable to create file (unable to open file: name = '/content/drive/MyDrive/Dataset/dataset/resnet50_face_mask.h5', errno = 2, error message = 'No such file or directory', flags = 13, o_flags = 242)"
          ]
        }
      ],
      "source": [
        "# Save the model weights\n",
        "model.save_weights('/content/drive/MyDrive/Dataset/dataset/resnet50_face_mask.h5')\n"
      ]
    },
    {
      "cell_type": "code",
      "execution_count": null,
      "metadata": {
        "colab": {
          "background_save": true
        },
        "id": "McN5NCRfp7Zm"
      },
      "outputs": [],
      "source": [
        "# Evaluate the model on the test set\n",
        "test_loss, test_accuracy = model.evaluate(validation_generator)\n",
        "print(f'Test Loss: {test_loss:.4f}')\n",
        "print(f'Test Accuracy: {test_accuracy:.4f}')\n"
      ]
    },
    {
      "cell_type": "code",
      "execution_count": null,
      "metadata": {
        "colab": {
          "background_save": true
        },
        "id": "QtSXYmi1Xqdi"
      },
      "outputs": [],
      "source": [
        "# summarize history for accuracy\n",
        "plt.plot(history.history['accuracy'])\n",
        "plt.plot(history.history['val_accuracy'])\n",
        "plt.title('Model accuracy')\n",
        "plt.ylabel('accuracy')\n",
        "plt.xlabel('epoch')\n",
        "plt.legend(['train', 'validation'], loc='upper left')\n",
        "plt.show()\n"
      ]
    },
    {
      "cell_type": "code",
      "execution_count": null,
      "metadata": {
        "colab": {
          "background_save": true
        },
        "id": "anHGbDljXuG4"
      },
      "outputs": [],
      "source": [
        "# summarize history for loss\n",
        "plt.plot(history.history['loss'])\n",
        "plt.plot(history.history['val_loss'])\n",
        "plt.title('Model loss')\n",
        "plt.ylabel('loss')\n",
        "plt.xlabel('epoch')\n",
        "plt.legend(['train', 'validation'], loc='upper left')\n",
        "plt.show()"
      ]
    },
    {
      "cell_type": "code",
      "execution_count": null,
      "metadata": {
        "colab": {
          "background_save": true
        },
        "id": "WSsl1DvgeM-7"
      },
      "outputs": [],
      "source": []
    }
  ],
  "metadata": {
    "accelerator": "GPU",
    "colab": {
      "provenance": []
    },
    "kernelspec": {
      "display_name": "Python 3",
      "name": "python3"
    },
    "language_info": {
      "name": "python"
    }
  },
  "nbformat": 4,
  "nbformat_minor": 0
}